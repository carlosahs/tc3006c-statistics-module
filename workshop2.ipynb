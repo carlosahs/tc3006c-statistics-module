{
 "cells": [
  {
   "cell_type": "code",
   "execution_count": 2,
   "id": "051d60ce-5c00-4495-9567-103698582c0a",
   "metadata": {},
   "outputs": [],
   "source": [
    "from symbulate import *\n",
    "#'exec(%matplotlib inline)' \n",
    "import matplotlib\n",
    "\n",
    "import matplotlib.pyplot as plt"
   ]
  },
  {
   "cell_type": "code",
   "execution_count": 3,
   "id": "06955704-b1f4-49d2-9db4-ac61676a926e",
   "metadata": {},
   "outputs": [
    {
     "data": {
      "image/png": "[encoded data removed]",
      "text/plain": [
       "<Figure size 432x288 with 1 Axes>"
      ]
     },
     "metadata": {
      "needs_background": "light"
     },
     "output_type": "display_data"
    }
   ],
   "source": [
    "# clear the plot space:\n",
    "plt.clf()\n",
    "# Define the probability type of function as uniform (probability space)\n",
    "P = Uniform(0,40)\n",
    "# Define X as a random variable of the type P (uniform)\n",
    "X =RV(P)\n",
    "# Simulate the values of X and save the in the x array: \n",
    "x=X.sim(10000)\n",
    "x.plot()\n",
    "plt.show()"
   ]
  },
  {
   "cell_type": "markdown",
   "id": "62d6b8fb-b22a-4c25-94f1-cb4d7c9a9f26",
   "metadata": {},
   "source": [
    "# CHALLENGE\n",
    "1. CALCULATE THE MEAN AND STANDARD DEVIATION OF THIS SIMULATED UNIFORM x VARIABLE. HOW CLOSE WERE THESE MEAN AND STANDARD DEVIATION FROM THE THEORETICAL MEAN AND STANDARD DEVIATION?"
   ]
  },
  {
   "cell_type": "code",
   "execution_count": 7,
   "id": "484d299a-f271-4b5c-9442-8f1f16d39c9b",
   "metadata": {},
   "outputs": [
    {
     "name": "stdout",
     "output_type": "stream",
     "text": [
      "11.603178088513577 20.229638067721954\n"
     ]
    }
   ],
   "source": [
    "x_std = x.std()\n",
    "x_mu = x.mean()\n",
    "\n",
    "print(x_std, x_mu)"
   ]
  },
  {
   "cell_type": "markdown",
   "id": "cef519e2-f019-4056-8c63-3975e29a69b4",
   "metadata": {},
   "source": [
    "2. INTERPRET THE ABOVE HISTOGRAM. WHAT DO YOU SEE? EXPLAIN WITH YOUR WORDS.\n",
    "\n",
    "Both the standard deviation (once squared) and the mean are pretty close to the theoretical values for a probability uniform distribution from 0 to 40: $\\mu = 20$ and $\\sqrt{\\text{var}} = \\sqrt{133.\\bar{3}} \\approx 11.54$."
   ]
  },
  {
   "cell_type": "code",
   "execution_count": 9,
   "id": "9e800e2a-d9fc-4726-ac74-5b793e8406a8",
   "metadata": {},
   "outputs": [],
   "source": [
    "# Define the probability space as a vector of 25 uniform random numbers:\n",
    "P = Uniform(0,40) ** 25\n",
    "# Define XVECTOR as a vector of random variables with 25 random values \n",
    "XVECTOR =RV(P)\n",
    "# Simulate 10,000 vectors to get a matrix  \n",
    "xmatrix=XVECTOR.sim(10000)"
   ]
  },
  {
   "cell_type": "code",
   "execution_count": 10,
   "id": "1016cb81-cca0-49a0-bcf1-3d0934fea225",
   "metadata": {},
   "outputs": [
    {
     "data": {
      "text/html": [
       "\n",
       "    <table>\n",
       "      <thead>\n",
       "        <th width=\"10%\">Index</th>\n",
       "        <th width=\"90%\">Result</th>\n",
       "      </thead>\n",
       "      <tbody>\n",
       "        \n",
       "        <tr>\n",
       "          <td>0</td><td>(22.852217965217765, 25.937310736242722, 1.2513829586809688, 39.085101032818116, 0.21870539075143025...</td>\n",
       "        </tr>\n",
       "        \n",
       "        <tr>\n",
       "          <td>1</td><td>(26.38883870966852, 20.8006739474337, 28.01559964001779, 13.681022999571205, 4.704008064702969, ...,...</td>\n",
       "        </tr>\n",
       "        \n",
       "        <tr>\n",
       "          <td>2</td><td>(25.49723045949294, 25.78108774020005, 18.573788759081197, 30.027020803887336, 4.149723755129169, .....</td>\n",
       "        </tr>\n",
       "        \n",
       "        <tr>\n",
       "          <td>3</td><td>(4.8377470360731945, 9.01351938784288, 30.698418632649542, 3.0526317749009024, 32.15232862205289, .....</td>\n",
       "        </tr>\n",
       "        \n",
       "        <tr>\n",
       "          <td>4</td><td>(13.345021471916073, 7.90429627984536, 1.0876483273193704, 3.6673840011598147, 4.712940719363918, .....</td>\n",
       "        </tr>\n",
       "        \n",
       "        <tr>\n",
       "          <td>5</td><td>(39.88412626498261, 9.961781027658159, 3.3231643089022445, 14.334940612612437, 14.203288337678588, ....</td>\n",
       "        </tr>\n",
       "        \n",
       "        <tr>\n",
       "          <td>6</td><td>(39.16139012504523, 15.952802174351284, 6.6480833910231985, 14.524575625410021, 5.129261095904498, ....</td>\n",
       "        </tr>\n",
       "        \n",
       "        <tr>\n",
       "          <td>7</td><td>(31.743893601266212, 11.372790461921824, 16.86493692666029, 34.248317063411974, 22.63060944715052, ....</td>\n",
       "        </tr>\n",
       "        \n",
       "        <tr>\n",
       "          <td>8</td><td>(7.355140202319199, 6.007577258935357, 38.0432427590861, 28.54103404792429, 24.008074825006844, ...,...</td>\n",
       "        </tr>\n",
       "        <tr><td>...</td><td>...</td></tr>\n",
       "        <tr>\n",
       "          <td>9999</td><td>(13.366426855999368, 9.642630475480253, 7.424412954153872, 16.925682727453033, 12.255511186961602, ....</td>\n",
       "        </tr>\n",
       "        \n",
       "      </tbody>\n",
       "    </table>\n",
       "        "
      ],
      "text/plain": [
       "Index Result\n",
       "0     (22.852217965217765, 25.937310736242722, 1.2513829586809688, 39.085101032818116, 0.21870539075143025, ..., 1.808545375147932)\n",
       "1     (26.38883870966852, 20.8006739474337, 28.01559964001779, 13.681022999571205, 4.704008064702969, ..., 27.141307131465485)\n",
       "2     (25.49723045949294, 25.78108774020005, 18.573788759081197, 30.027020803887336, 4.149723755129169, ..., 24.969758540727355)\n",
       "3     (4.8377470360731945, 9.01351938784288, 30.698418632649542, 3.0526317749009024, 32.15232862205289, ..., 10.41237129148412)\n",
       "4     (13.345021471916073, 7.90429627984536, 1.0876483273193704, 3.6673840011598147, 4.712940719363918, ..., 8.909136289115217)\n",
       "5     (39.88412626498261, 9.961781027658159, 3.3231643089022445, 14.334940612612437, 14.203288337678588, ..., 18.936818476533738)\n",
       "6     (39.16139012504523, 15.952802174351284, 6.6480833910231985, 14.524575625410021, 5.129261095904498, ..., 28.99464220845396)\n",
       "7     (31.743893601266212, 11.372790461921824, 16.86493692666029, 34.248317063411974, 22.63060944715052, ..., 10.90471660552598)\n",
       "8     (7.355140202319199, 6.007577258935357, 38.0432427590861, 28.54103404792429, 24.008074825006844, ..., 11.187446393490541)\n",
       "....  ...........................................................................................................................\n",
       "9999  (13.366426855999368, 9.642630475480253, 7.424412954153872, 16.925682727453033, 12.255511186961602, ..., 17.484519899086436)"
      ]
     },
     "execution_count": 10,
     "metadata": {},
     "output_type": "execute_result"
    }
   ],
   "source": [
    "xmatrix"
   ]
  },
  {
   "cell_type": "code",
   "execution_count": 11,
   "id": "9c28b000-abde-41d7-ba1d-9b63fa300a26",
   "metadata": {},
   "outputs": [
    {
     "data": {
      "text/html": [
       "\n",
       "    <table>\n",
       "      <thead>\n",
       "        <th width=\"10%\">Index</th>\n",
       "        <th width=\"90%\">Result</th>\n",
       "      </thead>\n",
       "      <tbody>\n",
       "        \n",
       "        <tr>\n",
       "          <td>0</td><td>18.318501314774863</td>\n",
       "        </tr>\n",
       "        \n",
       "        <tr>\n",
       "          <td>1</td><td>16.658578508824508</td>\n",
       "        </tr>\n",
       "        \n",
       "        <tr>\n",
       "          <td>2</td><td>18.92843557503427</td>\n",
       "        </tr>\n",
       "        \n",
       "        <tr>\n",
       "          <td>3</td><td>20.994707573415923</td>\n",
       "        </tr>\n",
       "        \n",
       "        <tr>\n",
       "          <td>4</td><td>15.10872182831081</td>\n",
       "        </tr>\n",
       "        \n",
       "        <tr>\n",
       "          <td>5</td><td>21.728787155944495</td>\n",
       "        </tr>\n",
       "        \n",
       "        <tr>\n",
       "          <td>6</td><td>21.19248730614675</td>\n",
       "        </tr>\n",
       "        \n",
       "        <tr>\n",
       "          <td>7</td><td>21.07348901797931</td>\n",
       "        </tr>\n",
       "        \n",
       "        <tr>\n",
       "          <td>8</td><td>23.72235787269189</td>\n",
       "        </tr>\n",
       "        <tr><td>...</td><td>...</td></tr>\n",
       "        <tr>\n",
       "          <td>9999</td><td>17.712583226510024</td>\n",
       "        </tr>\n",
       "        \n",
       "      </tbody>\n",
       "    </table>\n",
       "        "
      ],
      "text/plain": [
       "Index Result\n",
       "0     18.318501314774863\n",
       "1     16.658578508824508\n",
       "2     18.92843557503427\n",
       "3     20.994707573415923\n",
       "4     15.10872182831081\n",
       "5     21.728787155944495\n",
       "6     21.19248730614675\n",
       "7     21.07348901797931\n",
       "8     23.72235787269189\n",
       "....  ..................\n",
       "9999  17.712583226510024"
      ]
     },
     "execution_count": 11,
     "metadata": {},
     "output_type": "execute_result"
    }
   ],
   "source": [
    "# The 2nd parameter is the mathematical operation applied to each row of the random vector\n",
    "# Simulate 10,000 means of each random vector of 25 uniform distributed numbers: \n",
    "xmean = RV(P,mean).sim(10000)\n",
    "xmean"
   ]
  },
  {
   "cell_type": "code",
   "execution_count": 12,
   "id": "645d86a7-ac93-4993-bf93-5985b1af60f2",
   "metadata": {},
   "outputs": [
    {
     "data": {
      "image/png": "[encoded data removed]",
      "text/plain": [
       "<Figure size 432x288 with 1 Axes>"
      ]
     },
     "metadata": {
      "needs_background": "light"
     },
     "output_type": "display_data"
    }
   ],
   "source": [
    "plt.clf()\n",
    "xmean.plot()\n",
    "plt.show()"
   ]
  },
  {
   "cell_type": "markdown",
   "id": "ad86cc21-cdd8-40a3-8018-f89af22f0dc5",
   "metadata": {},
   "source": [
    "# CHALLENGE\n",
    "\n",
    "1. CALCULATE THE MEAN AND STANDARD DEVIATION OF THE xmean VARIABLE. HOW SIMILAR OR DIFFERENT ARE THESE VALUES FROM THE MEAN AND STANDARD DEVIATION OF x?"
   ]
  },
  {
   "cell_type": "code",
   "execution_count": 15,
   "id": "e38d7ca4-02b7-4af1-ad33-7f4647777b97",
   "metadata": {},
   "outputs": [
    {
     "name": "stdout",
     "output_type": "stream",
     "text": [
      "20.02322686204873 20.229638067721954\n"
     ]
    }
   ],
   "source": [
    "xmean_mu = xmean.mean()\n",
    "\n",
    "print(xmean_mu, x_mu)"
   ]
  },
  {
   "cell_type": "markdown",
   "id": "8ec8f6b5-7e90-4042-ae21-494e1489a08b",
   "metadata": {},
   "source": [
    "2. WHAT DO YOU SEE IN THE ABOVE HISTOGRAM? DOES THE HISTOGRAM OF SAMPLE MEANS OF UNIFORM RANDOM VARIABLE LOOK LIKE A UNIFORM DISTRIBUTED VARIABLE? DO YOU SEE A LOGIC? BRIEFLY EXPLAIN WHAT YOU THINK.\n",
    "\n"
   ]
  },
  {
   "cell_type": "code",
   "execution_count": 14,
   "id": "c931f05a-61b6-46bc-94db-20f2229f57a1",
   "metadata": {},
   "outputs": [
    {
     "data": {
      "image/png": "[encoded data removed]",
      "text/plain": [
       "<Figure size 432x288 with 1 Axes>"
      ]
     },
     "metadata": {
      "needs_background": "light"
     },
     "output_type": "display_data"
    }
   ],
   "source": [
    "plt.clf()\n",
    "xmean.plot()\n",
    "x.plot()\n",
    "plt.show()"
   ]
  },
  {
   "cell_type": "code",
   "execution_count": 16,
   "id": "1732708b-c503-4fa3-adbd-c6bde4b29006",
   "metadata": {},
   "outputs": [
    {
     "data": {
      "image/png": "[encoded data removed]",
      "text/plain": [
       "<Figure size 432x288 with 1 Axes>"
      ]
     },
     "metadata": {
      "needs_background": "light"
     },
     "output_type": "display_data"
    }
   ],
   "source": [
    "# clear the plot space:\n",
    "plt.clf()\n",
    "# Define the probability type of function as uniform (probability space)\n",
    "P = Normal(mean=20, sd=10)\n",
    "# Define Y as a random variable of the type P (normal)\n",
    "Y =RV(P)\n",
    "# Simulate 10,000 values of Y and save the in the x array: \n",
    "y=Y.sim(10000)\n",
    "y.plot()\n",
    "plt.show()"
   ]
  },
  {
   "cell_type": "markdown",
   "id": "f2cc90c9-915e-4e86-b91d-2d6fbd398ddb",
   "metadata": {},
   "source": [
    "# CHALLENGE\n",
    "\n",
    "1. CALCULATE THE MEAN AND STANDARD DEVIATION OF THIS RANDOM y VARIABLE. HOW SIMILAR OR DIFFERENT ARE THESE VALUES FROM THE MEAN AND STANDARD DEVIATION OF THE THEORETICAL MEAN (20) AND THE THEORETICAL STANDARD DEVIATION (10)?"
   ]
  },
  {
   "cell_type": "code",
   "execution_count": 17,
   "id": "ab9f2413-72e0-4a17-9aed-ad413e0a8abd",
   "metadata": {},
   "outputs": [],
   "source": [
    "# Define the probability space P as a vector of 25 normal random numbers:\n",
    "P = Normal(mean=20, sd=10) ** 25\n",
    "# Define RANDOMVECTOR as a vector of 25 random variables in the Probability space P \n",
    "RANDOMVECTOR = RV(P)\n",
    "# Simulate 10,000 random vectors with this distribution and save the in ymatrix: \n",
    "ymatrix=RANDOMVECTOR.sim(10000)"
   ]
  },
  {
   "cell_type": "code",
   "execution_count": 18,
   "id": "7e0ae922-9ccb-403d-b597-3eadd5a5b126",
   "metadata": {},
   "outputs": [
    {
     "data": {
      "text/html": [
       "\n",
       "    <table>\n",
       "      <thead>\n",
       "        <th width=\"10%\">Index</th>\n",
       "        <th width=\"90%\">Result</th>\n",
       "      </thead>\n",
       "      <tbody>\n",
       "        \n",
       "        <tr>\n",
       "          <td>0</td><td>(-0.018094024456793534, 29.265061439967017, 20.85614990452645, 8.995721874854732, 38.258611225324024...</td>\n",
       "        </tr>\n",
       "        \n",
       "        <tr>\n",
       "          <td>1</td><td>(0.6886795497423535, 5.39028117028132, 29.68160272105235, 27.40258589741189, 21.954095502343403, ......</td>\n",
       "        </tr>\n",
       "        \n",
       "        <tr>\n",
       "          <td>2</td><td>(28.28280571721963, 19.754314914464974, 33.57980846656353, 16.624808910397345, -0.42825648589821697,...</td>\n",
       "        </tr>\n",
       "        \n",
       "        <tr>\n",
       "          <td>3</td><td>(8.807411915499614, -0.8549205834499816, 25.586135941364184, 14.992187870911215, 23.807788176719008,...</td>\n",
       "        </tr>\n",
       "        \n",
       "        <tr>\n",
       "          <td>4</td><td>(30.92123569201197, 26.83588743723351, 24.839862185477656, 30.966750443229934, 26.23672234443474, .....</td>\n",
       "        </tr>\n",
       "        \n",
       "        <tr>\n",
       "          <td>5</td><td>(24.261276655235996, 6.825056856942336, 15.051818279180296, 15.318005063277962, 15.542611834664552, ...</td>\n",
       "        </tr>\n",
       "        \n",
       "        <tr>\n",
       "          <td>6</td><td>(20.04155904343332, -7.760825413760767, 28.57505764847154, 14.221031908013982, 23.967008006249884, ....</td>\n",
       "        </tr>\n",
       "        \n",
       "        <tr>\n",
       "          <td>7</td><td>(16.514116260851903, 25.071968790558774, 20.034691676671358, 13.307342387606798, 11.58889145068481, ...</td>\n",
       "        </tr>\n",
       "        \n",
       "        <tr>\n",
       "          <td>8</td><td>(38.240256361376595, 0.3237908221785126, 14.591739957420305, 9.93795357220176, 36.22813447065904, .....</td>\n",
       "        </tr>\n",
       "        <tr><td>...</td><td>...</td></tr>\n",
       "        <tr>\n",
       "          <td>9999</td><td>(22.792152018811606, 24.72747983285972, 14.175895121546349, 44.49210101414403, 2.887914167114644, .....</td>\n",
       "        </tr>\n",
       "        \n",
       "      </tbody>\n",
       "    </table>\n",
       "        "
      ],
      "text/plain": [
       "Index Result\n",
       "0     (-0.018094024456793534, 29.265061439967017, 20.85614990452645, 8.995721874854732, 38.258611225324024, ..., 13.785377443831091)\n",
       "1     (0.6886795497423535, 5.39028117028132, 29.68160272105235, 27.40258589741189, 21.954095502343403, ..., 21.67467160100357)\n",
       "2     (28.28280571721963, 19.754314914464974, 33.57980846656353, 16.624808910397345, -0.42825648589821697, ..., 21.377683806223178)\n",
       "3     (8.807411915499614, -0.8549205834499816, 25.586135941364184, 14.992187870911215, 23.807788176719008, ..., 34.06654594553114)\n",
       "4     (30.92123569201197, 26.83588743723351, 24.839862185477656, 30.966750443229934, 26.23672234443474, ..., 33.395530186723235)\n",
       "5     (24.261276655235996, 6.825056856942336, 15.051818279180296, 15.318005063277962, 15.542611834664552, ..., 29.713499638065066)\n",
       "6     (20.04155904343332, -7.760825413760767, 28.57505764847154, 14.221031908013982, 23.967008006249884, ..., 34.934370965119676)\n",
       "7     (16.514116260851903, 25.071968790558774, 20.034691676671358, 13.307342387606798, 11.58889145068481, ..., 20.846568259230658)\n",
       "8     (38.240256361376595, 0.3237908221785126, 14.591739957420305, 9.93795357220176, 36.22813447065904, ..., 17.55863402281173)\n",
       "....  .........................................................................................................................\n",
       "9999  (22.792152018811606, 24.72747983285972, 14.175895121546349, 44.49210101414403, 2.887914167114644, ..., 25.25775098021862)"
      ]
     },
     "execution_count": 18,
     "metadata": {},
     "output_type": "execute_result"
    }
   ],
   "source": [
    "ymatrix"
   ]
  },
  {
   "cell_type": "code",
   "execution_count": 19,
   "id": "706a7f7f-fcb7-4b9b-ba7f-c43b980d4cb3",
   "metadata": {},
   "outputs": [
    {
     "data": {
      "text/html": [
       "\n",
       "    <table>\n",
       "      <thead>\n",
       "        <th width=\"10%\">Index</th>\n",
       "        <th width=\"90%\">Result</th>\n",
       "      </thead>\n",
       "      <tbody>\n",
       "        \n",
       "        <tr>\n",
       "          <td>0</td><td>17.60360827633514</td>\n",
       "        </tr>\n",
       "        \n",
       "        <tr>\n",
       "          <td>1</td><td>19.620233703420347</td>\n",
       "        </tr>\n",
       "        \n",
       "        <tr>\n",
       "          <td>2</td><td>17.11101711674335</td>\n",
       "        </tr>\n",
       "        \n",
       "        <tr>\n",
       "          <td>3</td><td>20.742159335228944</td>\n",
       "        </tr>\n",
       "        \n",
       "        <tr>\n",
       "          <td>4</td><td>22.861633713118437</td>\n",
       "        </tr>\n",
       "        \n",
       "        <tr>\n",
       "          <td>5</td><td>16.85819149296222</td>\n",
       "        </tr>\n",
       "        \n",
       "        <tr>\n",
       "          <td>6</td><td>20.981322960815433</td>\n",
       "        </tr>\n",
       "        \n",
       "        <tr>\n",
       "          <td>7</td><td>17.518615119859128</td>\n",
       "        </tr>\n",
       "        \n",
       "        <tr>\n",
       "          <td>8</td><td>15.617607885788319</td>\n",
       "        </tr>\n",
       "        <tr><td>...</td><td>...</td></tr>\n",
       "        <tr>\n",
       "          <td>9999</td><td>22.436905638576228</td>\n",
       "        </tr>\n",
       "        \n",
       "      </tbody>\n",
       "    </table>\n",
       "        "
      ],
      "text/plain": [
       "Index Result\n",
       "0     17.60360827633514\n",
       "1     19.620233703420347\n",
       "2     17.11101711674335\n",
       "3     20.742159335228944\n",
       "4     22.861633713118437\n",
       "5     16.85819149296222\n",
       "6     20.981322960815433\n",
       "7     17.518615119859128\n",
       "8     15.617607885788319\n",
       "....  ..................\n",
       "9999  22.436905638576228"
      ]
     },
     "execution_count": 19,
     "metadata": {},
     "output_type": "execute_result"
    }
   ],
   "source": [
    "# The 2nd parameter is the mathematical operation applied to each row of the random vector\n",
    "# Simulate 10,000 means of each random vector of 25 uniform distributed numbers: \n",
    "ymean = RV(P,mean).sim(10000)\n",
    "ymean"
   ]
  },
  {
   "cell_type": "code",
   "execution_count": 20,
   "id": "ccc792fc-ea89-4d72-bbf7-57529beb4293",
   "metadata": {},
   "outputs": [
    {
     "data": {
      "image/png": "[encoded data removed]",
      "text/plain": [
       "<Figure size 432x288 with 1 Axes>"
      ]
     },
     "metadata": {
      "needs_background": "light"
     },
     "output_type": "display_data"
    }
   ],
   "source": [
    "plt.clf()\n",
    "ymean.plot()\n",
    "plt.show()"
   ]
  },
  {
   "cell_type": "markdown",
   "id": "07a31713-cee1-4fff-84c8-97ef18bd1cce",
   "metadata": {},
   "source": [
    "# CHALLENGE\n",
    "\n",
    "1. CALCULATE THE MEAN AND STANDARD DEVIATION OF THE ymean VARIABLE. HOW SIMILAR OR DIFFERENT ARE THESE VALUES FROM THE MEAN AND STANDARD DEVIATION OF y?\n",
    "\n",
    "2. INTERPRET THE ABOVE HISTOGRAM OF THE SAMPLES OF y."
   ]
  },
  {
   "cell_type": "code",
   "execution_count": 21,
   "id": "121004aa-c5d3-4224-884b-378abd452f87",
   "metadata": {},
   "outputs": [
    {
     "data": {
      "image/png": "[encoded data removed]",
      "text/plain": [
       "<Figure size 432x288 with 1 Axes>"
      ]
     },
     "metadata": {
      "needs_background": "light"
     },
     "output_type": "display_data"
    }
   ],
   "source": [
    "plt.clf()\n",
    "ymean.plot()\n",
    "y.plot()\n",
    "plt.show()"
   ]
  },
  {
   "cell_type": "code",
   "execution_count": null,
   "id": "b6ebe495-bbfa-405d-a944-4ebfad0f5f9a",
   "metadata": {},
   "outputs": [],
   "source": []
  }
 ],
 "metadata": {
  "kernelspec": {
   "display_name": "Python 3 (ipykernel)",
   "language": "python",
   "name": "python3"
  },
  "language_info": {
   "codemirror_mode": {
    "name": "ipython",
    "version": 3
   },
   "file_extension": ".py",
   "mimetype": "text/x-python",
   "name": "python",
   "nbconvert_exporter": "python",
   "pygments_lexer": "ipython3",
   "version": "3.10.4"
  }
 },
 "nbformat": 4,
 "nbformat_minor": 5
}
