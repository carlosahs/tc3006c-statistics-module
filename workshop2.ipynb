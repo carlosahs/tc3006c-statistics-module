{
 "cells": [
  {
   "cell_type": "code",
   "execution_count": 1,
   "id": "051d60ce-5c00-4495-9567-103698582c0a",
   "metadata": {},
   "outputs": [],
   "source": [
    "from symbulate import *\n",
    "#'exec(%matplotlib inline)' \n",
    "import matplotlib\n",
    "\n",
    "import matplotlib.pyplot as plt"
   ]
  },
  {
   "cell_type": "code",
   "execution_count": 2,
   "id": "06955704-b1f4-49d2-9db4-ac61676a926e",
   "metadata": {},
   "outputs": [
    {
     "data": {
      "image/png": "[encoded data removed]",
      "text/plain": [
       "<Figure size 432x288 with 1 Axes>"
      ]
     },
     "metadata": {
      "needs_background": "light"
     },
     "output_type": "display_data"
    }
   ],
   "source": [
    "# clear the plot space:\n",
    "plt.clf()\n",
    "# Define the probability type of function as uniform (probability space)\n",
    "P = Uniform(0,40)\n",
    "# Define X as a random variable of the type P (uniform)\n",
    "X =RV(P)\n",
    "# Simulate the values of X and save the in the x array: \n",
    "x=X.sim(10000)\n",
    "x.plot()\n",
    "plt.show()"
   ]
  },
  {
   "cell_type": "markdown",
   "id": "62d6b8fb-b22a-4c25-94f1-cb4d7c9a9f26",
   "metadata": {},
   "source": [
    "# CHALLENGE\n",
    "1. CALCULATE THE MEAN AND STANDARD DEVIATION OF THIS SIMULATED UNIFORM x VARIABLE. HOW CLOSE WERE THESE MEAN AND STANDARD DEVIATION FROM THE THEORETICAL MEAN AND STANDARD DEVIATION?"
   ]
  },
  {
   "cell_type": "code",
   "execution_count": 3,
   "id": "484d299a-f271-4b5c-9442-8f1f16d39c9b",
   "metadata": {},
   "outputs": [
    {
     "name": "stdout",
     "output_type": "stream",
     "text": [
      "11.541874731687123 19.997893149936765\n"
     ]
    }
   ],
   "source": [
    "x_std = x.std()\n",
    "x_mu = x.mean()\n",
    "\n",
    "print(x_std, x_mu)"
   ]
  },
  {
   "cell_type": "markdown",
   "id": "c351cbed-4e3a-41de-862b-42ac11619158",
   "metadata": {},
   "source": [
    "The theoretical mean and standard deviation are calculated as follows:\n",
    "$$\n",
    "\\text{E}(x) = \\frac{a + b}{2}, \\sigma(x) = \\sqrt{\\frac{(b - a)^2}{12}}\n",
    "$$\n",
    "where $a$ is the lower bound and $b$ is the upper bound of our distribution.\n",
    "\n",
    "Because $a = 0$ and $b = 40$, the theoretical values are\n",
    "$$\n",
    "\\text{E}(x) = \\frac{0 + 40}{2} = 20, \\sigma(x) = \\sqrt{\\frac{(40 - 0)^2}{12}} \\approx 11.54\n",
    "$$\n",
    "\n",
    "Therefore, tt can be concluded that the theoretical values are very close to the simulated values."
   ]
  },
  {
   "cell_type": "markdown",
   "id": "cef519e2-f019-4056-8c63-3975e29a69b4",
   "metadata": {},
   "source": [
    "2. INTERPRET THE ABOVE HISTOGRAM. WHAT DO YOU SEE? EXPLAIN WITH YOUR WORDS.\n",
    "\n",
    "The above histogram roughly represents a uniform probability distribution, which is characterized by its rectangular shape.\n",
    "\n",
    "---"
   ]
  },
  {
   "cell_type": "code",
   "execution_count": 4,
   "id": "9e800e2a-d9fc-4726-ac74-5b793e8406a8",
   "metadata": {},
   "outputs": [],
   "source": [
    "# Define the probability space as a vector of 25 uniform random numbers:\n",
    "P = Uniform(0,40) ** 25\n",
    "# Define XVECTOR as a vector of random variables with 25 random values \n",
    "XVECTOR =RV(P)\n",
    "# Simulate 10,000 vectors to get a matrix  \n",
    "xmatrix=XVECTOR.sim(10000)"
   ]
  },
  {
   "cell_type": "code",
   "execution_count": 5,
   "id": "1016cb81-cca0-49a0-bcf1-3d0934fea225",
   "metadata": {},
   "outputs": [
    {
     "data": {
      "text/html": [
       "\n",
       "    <table>\n",
       "      <thead>\n",
       "        <th width=\"10%\">Index</th>\n",
       "        <th width=\"90%\">Result</th>\n",
       "      </thead>\n",
       "      <tbody>\n",
       "        \n",
       "        <tr>\n",
       "          <td>0</td><td>(30.534412719570085, 36.29764024761404, 18.97649308652241, 9.020410082379628, 24.173499594072076, .....</td>\n",
       "        </tr>\n",
       "        \n",
       "        <tr>\n",
       "          <td>1</td><td>(11.454991727213507, 4.68281212268149, 1.5900669689949343, 33.53138968766854, 17.408809206051508, .....</td>\n",
       "        </tr>\n",
       "        \n",
       "        <tr>\n",
       "          <td>2</td><td>(7.153481290794832, 8.273248751936485, 0.9380686499060298, 9.92738468853525, 35.06987746433491, ...,...</td>\n",
       "        </tr>\n",
       "        \n",
       "        <tr>\n",
       "          <td>3</td><td>(15.070935579992062, 21.056558412703144, 6.855888593328356, 2.5264202718461126, 17.853881514613768, ...</td>\n",
       "        </tr>\n",
       "        \n",
       "        <tr>\n",
       "          <td>4</td><td>(33.689031051982724, 6.087567199634214, 10.205797661473547, 25.809933244307874, 10.662726700644903, ...</td>\n",
       "        </tr>\n",
       "        \n",
       "        <tr>\n",
       "          <td>5</td><td>(22.957010583350677, 5.496798766602167, 8.031535087217225, 20.96903470229226, 2.7549898283835317, .....</td>\n",
       "        </tr>\n",
       "        \n",
       "        <tr>\n",
       "          <td>6</td><td>(37.36424868020383, 19.389286281567454, 7.735168216029087, 2.2076448764175094, 29.588006676336036, ....</td>\n",
       "        </tr>\n",
       "        \n",
       "        <tr>\n",
       "          <td>7</td><td>(23.406364610584017, 10.220664820558238, 37.65112720164537, 31.080157421831878, 36.77192508129532, ....</td>\n",
       "        </tr>\n",
       "        \n",
       "        <tr>\n",
       "          <td>8</td><td>(8.395298515338334, 14.370648985233654, 3.1998674143413908, 35.56845769980235, 17.917953062259294, ....</td>\n",
       "        </tr>\n",
       "        <tr><td>...</td><td>...</td></tr>\n",
       "        <tr>\n",
       "          <td>9999</td><td>(39.4269344441862, 39.752644786552885, 6.454331101153303, 8.089520428098984, 27.797476953616773, ......</td>\n",
       "        </tr>\n",
       "        \n",
       "      </tbody>\n",
       "    </table>\n",
       "        "
      ],
      "text/plain": [
       "Index Result\n",
       "0     (30.534412719570085, 36.29764024761404, 18.97649308652241, 9.020410082379628, 24.173499594072076, ..., 17.641281148033944)\n",
       "1     (11.454991727213507, 4.68281212268149, 1.5900669689949343, 33.53138968766854, 17.408809206051508, ..., 24.91138562142396)\n",
       "2     (7.153481290794832, 8.273248751936485, 0.9380686499060298, 9.92738468853525, 35.06987746433491, ..., 4.679786804805723)\n",
       "3     (15.070935579992062, 21.056558412703144, 6.855888593328356, 2.5264202718461126, 17.853881514613768, ..., 33.22908721574149)\n",
       "4     (33.689031051982724, 6.087567199634214, 10.205797661473547, 25.809933244307874, 10.662726700644903, ..., 7.476876978405436)\n",
       "5     (22.957010583350677, 5.496798766602167, 8.031535087217225, 20.96903470229226, 2.7549898283835317, ..., 1.4428174206970779)\n",
       "6     (37.36424868020383, 19.389286281567454, 7.735168216029087, 2.2076448764175094, 29.588006676336036, ..., 18.004822092475127)\n",
       "7     (23.406364610584017, 10.220664820558238, 37.65112720164537, 31.080157421831878, 36.77192508129532, ..., 2.0465745188547535)\n",
       "8     (8.395298515338334, 14.370648985233654, 3.1998674143413908, 35.56845769980235, 17.917953062259294, ..., 38.03208139580113)\n",
       "....  .......................................................................................................................\n",
       "9999  (39.4269344441862, 39.752644786552885, 6.454331101153303, 8.089520428098984, 27.797476953616773, ..., 23.0782320579901)"
      ]
     },
     "execution_count": 5,
     "metadata": {},
     "output_type": "execute_result"
    }
   ],
   "source": [
    "xmatrix"
   ]
  },
  {
   "cell_type": "code",
   "execution_count": 6,
   "id": "9c28b000-abde-41d7-ba1d-9b63fa300a26",
   "metadata": {},
   "outputs": [
    {
     "data": {
      "text/html": [
       "\n",
       "    <table>\n",
       "      <thead>\n",
       "        <th width=\"10%\">Index</th>\n",
       "        <th width=\"90%\">Result</th>\n",
       "      </thead>\n",
       "      <tbody>\n",
       "        \n",
       "        <tr>\n",
       "          <td>0</td><td>19.35447171614752</td>\n",
       "        </tr>\n",
       "        \n",
       "        <tr>\n",
       "          <td>1</td><td>21.85551243249499</td>\n",
       "        </tr>\n",
       "        \n",
       "        <tr>\n",
       "          <td>2</td><td>24.0946488931778</td>\n",
       "        </tr>\n",
       "        \n",
       "        <tr>\n",
       "          <td>3</td><td>24.41838965495975</td>\n",
       "        </tr>\n",
       "        \n",
       "        <tr>\n",
       "          <td>4</td><td>23.00459188011277</td>\n",
       "        </tr>\n",
       "        \n",
       "        <tr>\n",
       "          <td>5</td><td>20.430645994959228</td>\n",
       "        </tr>\n",
       "        \n",
       "        <tr>\n",
       "          <td>6</td><td>27.594476182404154</td>\n",
       "        </tr>\n",
       "        \n",
       "        <tr>\n",
       "          <td>7</td><td>19.28271323033541</td>\n",
       "        </tr>\n",
       "        \n",
       "        <tr>\n",
       "          <td>8</td><td>21.25409515203971</td>\n",
       "        </tr>\n",
       "        <tr><td>...</td><td>...</td></tr>\n",
       "        <tr>\n",
       "          <td>9999</td><td>19.0503008107748</td>\n",
       "        </tr>\n",
       "        \n",
       "      </tbody>\n",
       "    </table>\n",
       "        "
      ],
      "text/plain": [
       "Index Result\n",
       "0     19.35447171614752\n",
       "1     21.85551243249499\n",
       "2     24.0946488931778\n",
       "3     24.41838965495975\n",
       "4     23.00459188011277\n",
       "5     20.430645994959228\n",
       "6     27.594476182404154\n",
       "7     19.28271323033541\n",
       "8     21.25409515203971\n",
       "....  ................\n",
       "9999  19.0503008107748"
      ]
     },
     "execution_count": 6,
     "metadata": {},
     "output_type": "execute_result"
    }
   ],
   "source": [
    "# The 2nd parameter is the mathematical operation applied to each row of the random vector\n",
    "# Simulate 10,000 means of each random vector of 25 uniform distributed numbers: \n",
    "xmean = RV(P,mean).sim(10000)\n",
    "xmean"
   ]
  },
  {
   "cell_type": "code",
   "execution_count": 7,
   "id": "645d86a7-ac93-4993-bf93-5985b1af60f2",
   "metadata": {},
   "outputs": [
    {
     "data": {
      "image/png": "[encoded data removed]",
      "text/plain": [
       "<Figure size 432x288 with 1 Axes>"
      ]
     },
     "metadata": {
      "needs_background": "light"
     },
     "output_type": "display_data"
    }
   ],
   "source": [
    "plt.clf()\n",
    "xmean.plot()\n",
    "plt.show()"
   ]
  },
  {
   "cell_type": "markdown",
   "id": "ad86cc21-cdd8-40a3-8018-f89af22f0dc5",
   "metadata": {},
   "source": [
    "# CHALLENGE\n",
    "\n",
    "1. CALCULATE THE MEAN AND STANDARD DEVIATION OF THE xmean VARIABLE. HOW SIMILAR OR DIFFERENT ARE THESE VALUES FROM THE MEAN AND STANDARD DEVIATION OF x?"
   ]
  },
  {
   "cell_type": "code",
   "execution_count": 17,
   "id": "e38d7ca4-02b7-4af1-ad33-7f4647777b97",
   "metadata": {},
   "outputs": [
    {
     "name": "stdout",
     "output_type": "stream",
     "text": [
      "20.02408507782356 19.997893149936765\n",
      "2.3508855559695525 11.541874731687123\n"
     ]
    }
   ],
   "source": [
    "xmean_mu = xmean.mean()\n",
    "xmean_std = xmean.std()\n",
    "\n",
    "print(xmean_mu, x_mu)\n",
    "print(xmean_std, x_std)"
   ]
  },
  {
   "cell_type": "markdown",
   "id": "51b35aa7-b162-4c5f-98a2-6e12e62b0ad5",
   "metadata": {},
   "source": [
    "The values from the mean are very similar but the values from the standard deviation differ by a factor of five."
   ]
  },
  {
   "cell_type": "markdown",
   "id": "8ec8f6b5-7e90-4042-ae21-494e1489a08b",
   "metadata": {},
   "source": [
    "2. WHAT DO YOU SEE IN THE ABOVE HISTOGRAM? DOES THE HISTOGRAM OF SAMPLE MEANS OF UNIFORM RANDOM VARIABLE LOOK LIKE A UNIFORM DISTRIBUTED VARIABLE? DO YOU SEE A LOGIC? BRIEFLY EXPLAIN WHAT YOU THINK.\n",
    "\n",
    "Since the shape of this distribution is not rectangular, then it can be concluded that it is not a uniform probability distribution. It would be a unirform probability distribution if and only if all values within the distribution had the same probability, which is what gives the rectangular shape to such distribution."
   ]
  },
  {
   "cell_type": "code",
   "execution_count": 9,
   "id": "c931f05a-61b6-46bc-94db-20f2229f57a1",
   "metadata": {},
   "outputs": [
    {
     "data": {
      "image/png": "[encoded data removed]",
      "text/plain": [
       "<Figure size 432x288 with 1 Axes>"
      ]
     },
     "metadata": {
      "needs_background": "light"
     },
     "output_type": "display_data"
    }
   ],
   "source": [
    "plt.clf()\n",
    "xmean.plot()\n",
    "x.plot()\n",
    "plt.show()"
   ]
  },
  {
   "cell_type": "markdown",
   "id": "8b739a1e-9583-40bc-baad-1684377a0eb1",
   "metadata": {},
   "source": [
    "3. WHAT DO YOU SEE? HOW THE HISTOGRAM OF X DIFFERS FROM THE HISTOGRAM OF THE SAMPLES OF X?\n",
    "\n",
    "The most obvious difference is the shape of the distribution, from which it can be concluded that the orange one is a uniform probability distribution while the blue one appears to be a normal distribution.\n",
    "\n",
    "---"
   ]
  },
  {
   "cell_type": "code",
   "execution_count": 10,
   "id": "1732708b-c503-4fa3-adbd-c6bde4b29006",
   "metadata": {},
   "outputs": [
    {
     "data": {
      "image/png": "[encoded data removed]",
      "text/plain": [
       "<Figure size 432x288 with 1 Axes>"
      ]
     },
     "metadata": {
      "needs_background": "light"
     },
     "output_type": "display_data"
    }
   ],
   "source": [
    "# clear the plot space:\n",
    "plt.clf()\n",
    "# Define the probability type of function as uniform (probability space)\n",
    "P = Normal(mean=20, sd=10)\n",
    "# Define Y as a random variable of the type P (normal)\n",
    "Y =RV(P)\n",
    "# Simulate 10,000 values of Y and save the in the x array: \n",
    "y=Y.sim(10000)\n",
    "y.plot()\n",
    "plt.show()"
   ]
  },
  {
   "cell_type": "markdown",
   "id": "f2cc90c9-915e-4e86-b91d-2d6fbd398ddb",
   "metadata": {},
   "source": [
    "# CHALLENGE\n",
    "\n",
    "1. CALCULATE THE MEAN AND STANDARD DEVIATION OF THIS RANDOM y VARIABLE. HOW SIMILAR OR DIFFERENT ARE THESE VALUES FROM THE MEAN AND STANDARD DEVIATION OF THE THEORETICAL MEAN (20) AND THE THEORETICAL STANDARD DEVIATION (10)?"
   ]
  },
  {
   "cell_type": "code",
   "execution_count": 18,
   "id": "d14d3a9a-dfe5-401d-9efb-a18c90e4a822",
   "metadata": {},
   "outputs": [
    {
     "name": "stdout",
     "output_type": "stream",
     "text": [
      "20.018343894445792 9.984375911943156\n"
     ]
    }
   ],
   "source": [
    "y_mu = y.mean()\n",
    "y_std = y.std()\n",
    "\n",
    "print(y_mu, y_std)"
   ]
  },
  {
   "cell_type": "markdown",
   "id": "6821c2d4-d442-42a4-88f7-b966af01b7f2",
   "metadata": {},
   "source": [
    "The values are really close to the theoretical values.\n",
    "\n",
    "2. WHAT DO YOU SEE? INTERPRET THE HISTOGRAM WITH YOUR WORDS.\n",
    "\n",
    "What I see is that the histogram represents a normal distribution with $\\mu = 20$ and $\\sigma = 10$. It must have $\\mu = 20$ because most values are centered towards 20.\n",
    "\n",
    "---"
   ]
  },
  {
   "cell_type": "code",
   "execution_count": 11,
   "id": "ab9f2413-72e0-4a17-9aed-ad413e0a8abd",
   "metadata": {},
   "outputs": [],
   "source": [
    "# Define the probability space P as a vector of 25 normal random numbers:\n",
    "P = Normal(mean=20, sd=10) ** 25\n",
    "# Define RANDOMVECTOR as a vector of 25 random variables in the Probability space P \n",
    "RANDOMVECTOR = RV(P)\n",
    "# Simulate 10,000 random vectors with this distribution and save the in ymatrix: \n",
    "ymatrix=RANDOMVECTOR.sim(10000)"
   ]
  },
  {
   "cell_type": "code",
   "execution_count": 12,
   "id": "7e0ae922-9ccb-403d-b597-3eadd5a5b126",
   "metadata": {},
   "outputs": [
    {
     "data": {
      "text/html": [
       "\n",
       "    <table>\n",
       "      <thead>\n",
       "        <th width=\"10%\">Index</th>\n",
       "        <th width=\"90%\">Result</th>\n",
       "      </thead>\n",
       "      <tbody>\n",
       "        \n",
       "        <tr>\n",
       "          <td>0</td><td>(26.597615914556556, 12.420029260357936, 11.84665859960123, 29.72852472922238, 32.55516495010376, .....</td>\n",
       "        </tr>\n",
       "        \n",
       "        <tr>\n",
       "          <td>1</td><td>(21.384030367331082, 17.917130886665767, 30.941916752266145, 43.643292361851, 7.153601478586653, ......</td>\n",
       "        </tr>\n",
       "        \n",
       "        <tr>\n",
       "          <td>2</td><td>(9.683459210497297, 44.099135771829765, 7.123556210190159, 20.479498362008822, 16.811657699483394, ....</td>\n",
       "        </tr>\n",
       "        \n",
       "        <tr>\n",
       "          <td>3</td><td>(14.599995432113348, 16.83623601318548, 27.27433838228203, 15.299554229721725, 10.573557299522147, ....</td>\n",
       "        </tr>\n",
       "        \n",
       "        <tr>\n",
       "          <td>4</td><td>(41.4052838490437, 8.821496996394334, 34.35445264119089, 8.044179422331075, 15.260116671014018, ...,...</td>\n",
       "        </tr>\n",
       "        \n",
       "        <tr>\n",
       "          <td>5</td><td>(13.913850076953548, 28.61686024416703, 15.569830735848917, 19.832830036391112, 16.002421510412407, ...</td>\n",
       "        </tr>\n",
       "        \n",
       "        <tr>\n",
       "          <td>6</td><td>(27.581136815701708, 19.324981762617245, 18.681408452140328, 29.77319208796262, 21.752260245670765, ...</td>\n",
       "        </tr>\n",
       "        \n",
       "        <tr>\n",
       "          <td>7</td><td>(26.522433522651646, 12.28636874382468, 15.987074515706144, 12.162517113127198, 10.61824488502136, ....</td>\n",
       "        </tr>\n",
       "        \n",
       "        <tr>\n",
       "          <td>8</td><td>(17.59287047254353, 17.952437493855005, 33.237200581083705, 15.830712217778064, 3.2135683938014736, ...</td>\n",
       "        </tr>\n",
       "        <tr><td>...</td><td>...</td></tr>\n",
       "        <tr>\n",
       "          <td>9999</td><td>(17.417715236918923, 32.61534273664775, 10.917310915675426, 23.238787995275633, 26.157406709138613, ...</td>\n",
       "        </tr>\n",
       "        \n",
       "      </tbody>\n",
       "    </table>\n",
       "        "
      ],
      "text/plain": [
       "Index Result\n",
       "0     (26.597615914556556, 12.420029260357936, 11.84665859960123, 29.72852472922238, 32.55516495010376, ..., 43.400374645097294)\n",
       "1     (21.384030367331082, 17.917130886665767, 30.941916752266145, 43.643292361851, 7.153601478586653, ..., 15.71405000191141)\n",
       "2     (9.683459210497297, 44.099135771829765, 7.123556210190159, 20.479498362008822, 16.811657699483394, ..., 28.201147205110523)\n",
       "3     (14.599995432113348, 16.83623601318548, 27.27433838228203, 15.299554229721725, 10.573557299522147, ..., 12.06812416319659)\n",
       "4     (41.4052838490437, 8.821496996394334, 34.35445264119089, 8.044179422331075, 15.260116671014018, ..., 18.45689584858613)\n",
       "5     (13.913850076953548, 28.61686024416703, 15.569830735848917, 19.832830036391112, 16.002421510412407, ..., 14.628662372854963)\n",
       "6     (27.581136815701708, 19.324981762617245, 18.681408452140328, 29.77319208796262, 21.752260245670765, ..., 18.243837134112436)\n",
       "7     (26.522433522651646, 12.28636874382468, 15.987074515706144, 12.162517113127198, 10.61824488502136, ..., 24.008421229566004)\n",
       "8     (17.59287047254353, 17.952437493855005, 33.237200581083705, 15.830712217778064, 3.2135683938014736, ..., 20.132245582568295)\n",
       "....  ............................................................................................................................\n",
       "9999  (17.417715236918923, 32.61534273664775, 10.917310915675426, 23.238787995275633, 26.157406709138613, ..., 11.212935694845692)"
      ]
     },
     "execution_count": 12,
     "metadata": {},
     "output_type": "execute_result"
    }
   ],
   "source": [
    "ymatrix"
   ]
  },
  {
   "cell_type": "code",
   "execution_count": 13,
   "id": "706a7f7f-fcb7-4b9b-ba7f-c43b980d4cb3",
   "metadata": {},
   "outputs": [
    {
     "data": {
      "text/html": [
       "\n",
       "    <table>\n",
       "      <thead>\n",
       "        <th width=\"10%\">Index</th>\n",
       "        <th width=\"90%\">Result</th>\n",
       "      </thead>\n",
       "      <tbody>\n",
       "        \n",
       "        <tr>\n",
       "          <td>0</td><td>18.180673378689374</td>\n",
       "        </tr>\n",
       "        \n",
       "        <tr>\n",
       "          <td>1</td><td>20.834740106247843</td>\n",
       "        </tr>\n",
       "        \n",
       "        <tr>\n",
       "          <td>2</td><td>20.890905706414824</td>\n",
       "        </tr>\n",
       "        \n",
       "        <tr>\n",
       "          <td>3</td><td>19.05394584735363</td>\n",
       "        </tr>\n",
       "        \n",
       "        <tr>\n",
       "          <td>4</td><td>22.045053810261926</td>\n",
       "        </tr>\n",
       "        \n",
       "        <tr>\n",
       "          <td>5</td><td>19.832542718383426</td>\n",
       "        </tr>\n",
       "        \n",
       "        <tr>\n",
       "          <td>6</td><td>18.927454497919857</td>\n",
       "        </tr>\n",
       "        \n",
       "        <tr>\n",
       "          <td>7</td><td>19.001109571305324</td>\n",
       "        </tr>\n",
       "        \n",
       "        <tr>\n",
       "          <td>8</td><td>18.839301159556356</td>\n",
       "        </tr>\n",
       "        <tr><td>...</td><td>...</td></tr>\n",
       "        <tr>\n",
       "          <td>9999</td><td>20.850815996359106</td>\n",
       "        </tr>\n",
       "        \n",
       "      </tbody>\n",
       "    </table>\n",
       "        "
      ],
      "text/plain": [
       "Index Result\n",
       "0     18.180673378689374\n",
       "1     20.834740106247843\n",
       "2     20.890905706414824\n",
       "3     19.05394584735363\n",
       "4     22.045053810261926\n",
       "5     19.832542718383426\n",
       "6     18.927454497919857\n",
       "7     19.001109571305324\n",
       "8     18.839301159556356\n",
       "....  ..................\n",
       "9999  20.850815996359106"
      ]
     },
     "execution_count": 13,
     "metadata": {},
     "output_type": "execute_result"
    }
   ],
   "source": [
    "# The 2nd parameter is the mathematical operation applied to each row of the random vector\n",
    "# Simulate 10,000 means of each random vector of 25 uniform distributed numbers: \n",
    "ymean = RV(P,mean).sim(10000)\n",
    "ymean"
   ]
  },
  {
   "cell_type": "code",
   "execution_count": 14,
   "id": "ccc792fc-ea89-4d72-bbf7-57529beb4293",
   "metadata": {},
   "outputs": [
    {
     "data": {
      "image/png": "[encoded data removed]",
      "text/plain": [
       "<Figure size 432x288 with 1 Axes>"
      ]
     },
     "metadata": {
      "needs_background": "light"
     },
     "output_type": "display_data"
    }
   ],
   "source": [
    "plt.clf()\n",
    "ymean.plot()\n",
    "plt.show()"
   ]
  },
  {
   "cell_type": "markdown",
   "id": "07a31713-cee1-4fff-84c8-97ef18bd1cce",
   "metadata": {},
   "source": [
    "# CHALLENGE\n",
    "\n",
    "1. CALCULATE THE MEAN AND STANDARD DEVIATION OF THE ymean VARIABLE. HOW SIMILAR OR DIFFERENT ARE THESE VALUES FROM THE MEAN AND STANDARD DEVIATION OF y?\n",
    "\n",
    "2. INTERPRET THE ABOVE HISTOGRAM OF THE SAMPLES OF y."
   ]
  },
  {
   "cell_type": "code",
   "execution_count": 16,
   "id": "121004aa-c5d3-4224-884b-378abd452f87",
   "metadata": {},
   "outputs": [
    {
     "data": {
      "image/png": "[encoded data removed]",
      "text/plain": [
       "<Figure size 432x288 with 1 Axes>"
      ]
     },
     "metadata": {
      "needs_background": "light"
     },
     "output_type": "display_data"
    }
   ],
   "source": [
    "plt.clf()\n",
    "ymean.plot()\n",
    "x.plot()\n",
    "plt.show()"
   ]
  },
  {
   "cell_type": "code",
   "execution_count": null,
   "id": "b6ebe495-bbfa-405d-a944-4ebfad0f5f9a",
   "metadata": {},
   "outputs": [],
   "source": []
  }
 ],
 "metadata": {
  "kernelspec": {
   "display_name": "Python 3 (ipykernel)",
   "language": "python",
   "name": "python3"
  },
  "language_info": {
   "codemirror_mode": {
    "name": "ipython",
    "version": 3
   },
   "file_extension": ".py",
   "mimetype": "text/x-python",
   "name": "python",
   "nbconvert_exporter": "python",
   "pygments_lexer": "ipython3",
   "version": "3.10.4"
  }
 },
 "nbformat": 4,
 "nbformat_minor": 5
}
